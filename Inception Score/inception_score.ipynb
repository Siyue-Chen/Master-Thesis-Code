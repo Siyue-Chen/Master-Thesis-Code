{
  "nbformat": 4,
  "nbformat_minor": 0,
  "metadata": {
    "accelerator": "GPU",
    "colab": {
      "name": "Untitled2.ipynb",
      "provenance": [],
      "collapsed_sections": []
    },
    "kernelspec": {
      "display_name": "Python 3",
      "name": "python3"
    },
    "language_info": {
      "name": "python"
    }
  },
  "cells": [
    {
      "cell_type": "code",
      "metadata": {
        "colab": {
          "base_uri": "https://localhost:8080/"
        },
        "id": "mPdUycBfSHPG",
        "outputId": "92836e81-d6c7-4ae4-98be-b49c8c2f586f"
      },
      "source": [
        "from google.colab import drive\n",
        "drive.mount('/content/drive/')\n"
      ],
      "execution_count": null,
      "outputs": [
        {
          "output_type": "stream",
          "text": [
            "Mounted at /content/drive/\n"
          ],
          "name": "stdout"
        }
      ]
    },
    {
      "cell_type": "code",
      "metadata": {
        "id": "7BzLTtLdnvGr"
      },
      "source": [
        "import os\n",
        "os.chdir(\"/content/drive/MyDrive/StackGAN-inception-model\")"
      ],
      "execution_count": null,
      "outputs": []
    },
    {
      "cell_type": "code",
      "metadata": {
        "colab": {
          "base_uri": "https://localhost:8080/"
        },
        "id": "C0FFQF5rDl5j",
        "outputId": "f35ebd5a-3a9f-4bf2-9196-a48019d1bdec"
      },
      "source": [
        "!pip install scipy==1.2.1"
      ],
      "execution_count": null,
      "outputs": [
        {
          "output_type": "stream",
          "text": [
            "Requirement already satisfied: scipy==1.2.1 in /usr/local/lib/python3.7/dist-packages (1.2.1)\n",
            "Requirement already satisfied: numpy>=1.8.2 in /usr/local/lib/python3.7/dist-packages (from scipy==1.2.1) (1.19.5)\n"
          ],
          "name": "stdout"
        }
      ]
    },
    {
      "cell_type": "code",
      "metadata": {
        "colab": {
          "base_uri": "https://localhost:8080/"
        },
        "id": "6TguVzAlKu0o",
        "outputId": "801e6670-da99-43cc-edd5-eec1cc56da85"
      },
      "source": [
        "%run inception_score.py --folder_name \"Scott_Oriole\" --image_folder \"/content/drive/MyDrive/AttnGAN/models/bird_AttnGAN2\""
      ],
      "execution_count": null,
      "outputs": [
        {
          "output_type": "stream",
          "text": [
            "/content/drive/MyDrive/AttnGAN/models/bird_AttnGAN2\n",
            "WARNING:tensorflow:From /usr/local/lib/python3.7/dist-packages/tensorflow/python/util/dispatch.py:201: calling dropout (from tensorflow.python.ops.nn_ops) with keep_prob is deprecated and will be removed in a future version.\n",
            "Instructions for updating:\n",
            "Please use `rate` instead of `keep_prob`. Rate should be set to `rate = 1 - keep_prob`.\n",
            "logits Tensor(\"inception_v3/logits/logits/xw_plus_b:0\", shape=(2, 51), dtype=float32, device=/device:GPU:1)\n",
            "/content/drive/MyDrive/AttnGAN/models/bird_AttnGAN2\n"
          ],
          "name": "stdout"
        },
        {
          "output_type": "stream",
          "text": [
            "/content/drive/MyDrive/StackGAN-inception-model/inception_score.py:160: DeprecationWarning:     `imread` is deprecated!\n",
            "    `imread` is deprecated in SciPy 1.0.0, and will be removed in 1.2.0.\n",
            "    Use ``imageio.imread`` instead.\n",
            "  img = scipy.misc.imread(filename)\n"
          ],
          "name": "stderr"
        },
        {
          "output_type": "stream",
          "text": [
            "images 40 (256, 256, 3)\n",
            "num_examples 40\n",
            "n_batches 20\n"
          ],
          "name": "stdout"
        },
        {
          "output_type": "stream",
          "text": [
            "/content/drive/MyDrive/StackGAN-inception-model/inception_score.py:73: DeprecationWarning:     `imresize` is deprecated!\n",
            "    `imresize` is deprecated in SciPy 1.0.0, and will be removed in 1.3.0.\n",
            "    Use Pillow instead: ``numpy.array(Image.fromarray(arr).resize())``.\n",
            "  interp='bilinear')\n"
          ],
          "name": "stderr"
        },
        {
          "output_type": "stream",
          "text": [
            "mean: 4.50 std: 2.18\n",
            "scores: [3.9851556, 3.0472279, 2.5037863, 2.4005396, 6.429905, 9.666583, 5.205879, 2.9196124, 3.3995461, 2.3460658, 4.867959, 6.3661556, 6.6457744, 5.0215507, 5.6992636, 2.1830175, 1.7924939, 2.15658, 4.8138103, 8.54628]\n"
          ],
          "name": "stdout"
        }
      ]
    },
    {
      "cell_type": "code",
      "metadata": {
        "colab": {
          "base_uri": "https://localhost:8080/"
        },
        "id": "MAeBg5uwocgM",
        "outputId": "2c23d258-564c-4570-cd08-b9bdf0017b93"
      },
      "source": [
        "%run inception_score.py --folder_name \"Scott_Oriole\" --image_folder \"/content/drive/MyDrive/ControlGAN/models/bird_ControlGAN\"\n",
        "#/content/drive/MyDrive/AttnGAN/models/bird_AttnGAN2/\n",
        "#/content/drive/MyDrive/ControlGAN/models/bird_ControlGAN"
      ],
      "execution_count": null,
      "outputs": [
        {
          "output_type": "stream",
          "text": [
            "/content/drive/MyDrive/ControlGAN/models/bird_ControlGAN\n",
            "WARNING:tensorflow:From /usr/local/lib/python3.7/dist-packages/tensorflow/python/util/dispatch.py:201: calling dropout (from tensorflow.python.ops.nn_ops) with keep_prob is deprecated and will be removed in a future version.\n",
            "Instructions for updating:\n",
            "Please use `rate` instead of `keep_prob`. Rate should be set to `rate = 1 - keep_prob`.\n",
            "/content/drive/MyDrive/ControlGAN/models/bird_ControlGAN\n",
            "images 40 (256, 256, 3)\n",
            "num_examples 40\n",
            "n_batches 20\n"
          ],
          "name": "stdout"
        },
        {
          "output_type": "stream",
          "text": [
            "/content/drive/MyDrive/StackGAN-inception-model/inception_score.py:160: DeprecationWarning:     `imread` is deprecated!\n",
            "    `imread` is deprecated in SciPy 1.0.0, and will be removed in 1.2.0.\n",
            "    Use ``imageio.imread`` instead.\n",
            "  img = scipy.misc.imread(filename)\n",
            "/content/drive/MyDrive/StackGAN-inception-model/inception_score.py:73: DeprecationWarning:     `imresize` is deprecated!\n",
            "    `imresize` is deprecated in SciPy 1.0.0, and will be removed in 1.3.0.\n",
            "    Use Pillow instead: ``numpy.array(Image.fromarray(arr).resize())``.\n",
            "  interp='bilinear')\n"
          ],
          "name": "stderr"
        },
        {
          "output_type": "stream",
          "text": [
            "mean: 2.56 std: 0.87\n",
            "scores: [2.2208376, 2.337046, 4.4030395, 1.9877431, 4.6648536, 2.7591116, 1.6433994, 1.5334764, 2.0277257, 1.4656246, 2.155216, 2.3932462, 2.0597353, 2.45779, 2.3999236, 3.8406372, 2.65602, 2.6628525, 1.9629887, 3.4992118]\n"
          ],
          "name": "stdout"
        }
      ]
    },
    {
      "cell_type": "code",
      "metadata": {
        "colab": {
          "base_uri": "https://localhost:8080/"
        },
        "id": "sPRSa_hDIQvN",
        "outputId": "181ce8de-e9c0-4484-f2cf-c58ad804522f"
      },
      "source": [
        "#do t-test\n",
        "\n",
        "attn = [2.8829107, 3.5395691, 2.2202911, 3.6090727, 6.961528, 9.259741, 4.4976892, 2.5507226, 3.7172928, 1.5995674, 5.8525615, 4.8165474, 6.833167, 5.0770884, 4.6664147, 2.657893, 3.0765665, 2.1520212, 4.3175836, 6.153654]\n",
        "control = [3.465584, 2.1984537, 3.309439, 1.6919371, 6.141044, 1.9348632, 1.5019089, 2.1888976, 1.692138, 2.388226, 2.7902787, 2.1602156, 1.4917779, 3.3483882, 2.067531, 3.2360475, 3.4475472, 2.887353, 2.0118904, 1.7772183]\n",
        "\n",
        "from scipy import stats\n",
        "import numpy as np\n",
        "\n",
        "print(stats.ttest_ind(attn, control, equal_var=False))\n"
      ],
      "execution_count": null,
      "outputs": [
        {
          "output_type": "stream",
          "text": [
            "Ttest_indResult(statistic=3.49216037554382, pvalue=0.001525176718468489)\n"
          ],
          "name": "stdout"
        }
      ]
    },
    {
      "cell_type": "code",
      "metadata": {
        "id": "QFnnQq-WRdZi"
      },
      "source": [
        "attn1 = [4.8862395, 3.5084403, 2.6398332, 3.7472017, 3.42505, 3.1497269, 3.4542937, 3.2233145, 2.9642487, 3.619626, 2.5080447, 3.4488358, 3.259353, 2.1743486, 8.106385, 1.9868681, 8.37408, 6.795448, 2.503555, 5.333308, 3.814066, 3.2045765, 4.4306393, 1.9869252, 4.586635]\n",
        "control1 = [9.113229, 6.1744046, 3.005189, 3.1299076, 4.047599, 4.8234177, 2.9937038, 5.288361, 3.8858986, 4.6469717, 4.857938, 3.0156631, 5.026716, 2.2881727, 5.2022038, 2.9178367, 3.1752338, 3.4208515, 2.4712157, 4.0125494, 3.0978658, 2.41425, 3.9414823, 3.1805992, 5.0575414]\n",
        "\n",
        "attn2 = [2.8829107, 3.5395691, 2.2202911, 3.6090727, 6.961528, 9.259741, 4.4976892, 2.5507226, 3.7172928, 1.5995674, 5.8525615, 4.8165474, 6.833167, 5.0770884, 4.6664147, 2.657893, 3.0765665, 2.1520212, 4.3175836, 6.153654]\n",
        "control2 = [3.465584, 2.1984537, 3.309439, 1.6919371, 6.141044, 1.9348632, 1.5019089, 2.1888976, 1.692138, 2.388226, 2.7902787, 2.1602156, 1.4917779, 3.3483882, 2.067531, 3.2360475, 3.4475472, 2.887353, 2.0118904, 1.7772183]\n",
        "\n",
        "attn3 = [3.139204, 6.2251287, 3.9096494, 3.043767, 6.5687604, 12.598519, 10.64024, 4.445704, 5.123955, 2.790723, 8.309807, 4.895539, 3.9728682, 8.620761, 7.4758472, 6.790551, 3.0292778, 2.1596563, 7.128318, 4.340941]\n",
        "control3 = [2.3949249, 4.9709086, 3.2907755, 2.6156683, 8.212286, 3.2165778, 2.9556878, 2.5903854, 3.0698786, 3.2359617, 4.7873287, 3.159046, 2.6693454, 5.19787, 3.4583406, 4.13755, 2.283009, 4.3343744, 2.6552157, 2.6503813]\n",
        "\n",
        "attn4 = [3.4366052, 3.4073534, 2.2594337, 2.340021, 2.7856917, 3.2182076, 2.8267384, 3.8527346, 4.732682, 2.576886, 2.4672863, 3.1600993, 2.7975144, 2.6525517, 1.8161637, 4.216272, 3.5162177, 3.4362552, 2.6182017, 3.4383056]\n",
        "control4 = [2.9739714, 5.5276046, 6.619756, 4.057711, 4.1036854, 4.1221137, 3.6240184, 3.2408183, 3.0367181, 3.1442406, 3.8926022, 4.5552697, 4.623141, 3.2048864, 1.6486144, 4.5847273, 2.7182193, 3.1119742, 2.7376034, 2.686176]\n",
        "\n"
      ],
      "execution_count": null,
      "outputs": []
    },
    {
      "cell_type": "code",
      "metadata": {
        "colab": {
          "base_uri": "https://localhost:8080/"
        },
        "id": "Lk8bEUN7ccNm",
        "outputId": "3ca0e91c-2350-48a2-8a02-65f10c99d217"
      },
      "source": [
        "attn = attn1 + attn2 + attn3 + attn4 + attn4 + attn5\n",
        "control = control1 + control2 + control3 + control4 + control5\n",
        "\n",
        "print(stats.ttest_ind(attn, control, equal_var=False))"
      ],
      "execution_count": null,
      "outputs": [
        {
          "output_type": "execute_result",
          "data": {
            "text/plain": [
              "[4.8862395,\n",
              " 3.5084403,\n",
              " 2.6398332,\n",
              " 3.7472017,\n",
              " 3.42505,\n",
              " 3.1497269,\n",
              " 3.4542937,\n",
              " 3.2233145,\n",
              " 2.9642487,\n",
              " 3.619626,\n",
              " 2.5080447,\n",
              " 3.4488358,\n",
              " 3.259353,\n",
              " 2.1743486,\n",
              " 8.106385,\n",
              " 1.9868681,\n",
              " 8.37408,\n",
              " 6.795448,\n",
              " 2.503555,\n",
              " 5.333308,\n",
              " 3.814066,\n",
              " 3.2045765,\n",
              " 4.4306393,\n",
              " 1.9869252,\n",
              " 4.586635,\n",
              " 2.8829107,\n",
              " 3.5395691,\n",
              " 2.2202911,\n",
              " 3.6090727,\n",
              " 6.961528,\n",
              " 9.259741,\n",
              " 4.4976892,\n",
              " 2.5507226,\n",
              " 3.7172928,\n",
              " 1.5995674,\n",
              " 5.8525615,\n",
              " 4.8165474,\n",
              " 6.833167,\n",
              " 5.0770884,\n",
              " 4.6664147,\n",
              " 2.657893,\n",
              " 3.0765665,\n",
              " 2.1520212,\n",
              " 4.3175836,\n",
              " 6.153654]"
            ]
          },
          "metadata": {
            "tags": []
          },
          "execution_count": 8
        }
      ]
    },
    {
      "cell_type": "code",
      "metadata": {
        "colab": {
          "base_uri": "https://localhost:8080/"
        },
        "id": "fPFRYauVwqO8",
        "outputId": "fabd531c-c911-475f-f0d3-6931ddc42b7e"
      },
      "source": [
        "import numpy as np\n",
        "a = np.arange(0,20).reshape(4,5)\n",
        "b = np.arange(-21,-1).reshape(4,5)[::-1,::-1]\n",
        "c = np.diag([-1,-10,-1000,-100000,-100000000])\n",
        "\n",
        "np.exp(2.4)"
      ],
      "execution_count": null,
      "outputs": [
        {
          "output_type": "execute_result",
          "data": {
            "text/plain": [
              "11.023176380641601"
            ]
          },
          "metadata": {
            "tags": []
          },
          "execution_count": 5
        }
      ]
    },
    {
      "cell_type": "code",
      "metadata": {
        "colab": {
          "base_uri": "https://localhost:8080/"
        },
        "id": "-4aM92GkBUwC",
        "outputId": "b25be825-3db0-4460-d3bc-6175cb61cdda"
      },
      "source": [
        "os.chdir(\"/content/drive/MyDrive/AttnGAN/models/bird_AttnGAN2\")\n",
        "%ls "
      ],
      "execution_count": null,
      "outputs": [
        {
          "output_type": "stream",
          "text": [
            "\u001b[0m\u001b[01;34mChestnut_Sided_Warbler_0001_163813\u001b[0m/  \u001b[01;34mScott_Oriole_0018_795840\u001b[0m/\n",
            "\u001b[01;34mChestnut_Sided_Warbler_0008_164001\u001b[0m/  \u001b[01;34mScott_Oriole_0046_92371\u001b[0m/\n",
            "\u001b[01;34mChestnut_Sided_Warbler_0016_164060\u001b[0m/  \u001b[01;34mTree_Swallow_0002_136792\u001b[0m/\n",
            "\u001b[01;34mChestnut_Sided_Warbler_0035_163587\u001b[0m/  \u001b[01;34mTree_Swallow_0008_135352\u001b[0m/\n",
            "\u001b[01;34mChestnut_Sided_Warbler_0101_164324\u001b[0m/  \u001b[01;34mTree_Swallow_0030_134942\u001b[0m/\n",
            "\u001b[01;34mChestnut_Sided_Warbler_0103_163669\u001b[0m/  \u001b[01;34mTree_Swallow_0050_135104\u001b[0m/\n",
            "\u001b[01;34mPurple_Finch_0013_27506\u001b[0m/             \u001b[01;34mTree_Swallow_0117_134925\u001b[0m/\n",
            "\u001b[01;34mPurple_Finch_0014_27322\u001b[0m/             \u001b[01;34mWilson_Warbler_0007_175618\u001b[0m/\n",
            "\u001b[01;34mPurple_Finch_0023_27986\u001b[0m/             \u001b[01;34mWilson_Warbler_0024_175278\u001b[0m/\n",
            "\u001b[01;34mPurple_Finch_0025_28174\u001b[0m/             \u001b[01;34mWilson_Warbler_0074_175645\u001b[0m/\n",
            "\u001b[01;34mScott_Oriole_0002_795829\u001b[0m/            \u001b[01;34mWilson_Warbler_0107_175320\u001b[0m/\n",
            "\u001b[01;34mScott_Oriole_0014_795827\u001b[0m/\n"
          ],
          "name": "stdout"
        }
      ]
    }
  ]
}